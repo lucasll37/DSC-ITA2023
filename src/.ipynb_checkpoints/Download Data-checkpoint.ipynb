{
 "cells": [
  {
   "cell_type": "markdown",
   "id": "f4847938",
   "metadata": {},
   "source": [
    "![Banner](../images/banner.png)"
   ]
  },
  {
   "cell_type": "markdown",
   "id": "d3b61c67",
   "metadata": {},
   "source": [
    "## [[DSC-2023](https://comp.ita.br/dsc/edicoes/2023/)] Develop accurate models that can improve Estimated Landing Time (ELDT) predictability and contribute to more efficient and safe air transport.\n",
    "\n",
    "### Authors: [João Dantas](https://www.linkedin.com/in/jpdantas/), [Lucas Lima](https://www.linkedin.com/in/lucaslima25/) and [Samara Ribeiro](https://www.linkedin.com/in/samara-ribeiro-silva-a7b89125b/)"
   ]
  },
  {
   "cell_type": "markdown",
   "id": "32144d68",
   "metadata": {},
   "source": [
    "##### Python version"
   ]
  },
  {
   "cell_type": "code",
   "execution_count": 1,
   "id": "2c2ec305-3afc-4631-b64a-ed9b1cad0620",
   "metadata": {},
   "outputs": [
    {
     "name": "stdout",
     "output_type": "stream",
     "text": [
      "Versão da Linguagem Python Usada Neste Jupyter Notebook: 3.11.4\n"
     ]
    }
   ],
   "source": [
    "from platform import python_version\n",
    "print('Versão da Linguagem Python Usada Neste Jupyter Notebook:', python_version())"
   ]
  },
  {
   "cell_type": "markdown",
   "id": "075eab08",
   "metadata": {},
   "source": [
    "##### Packages"
   ]
  },
  {
   "cell_type": "code",
   "execution_count": 2,
   "id": "6929fbbd",
   "metadata": {},
   "outputs": [],
   "source": [
    "from datetime import datetime, timedelta\n",
    "\n",
    "import pandas as pd\n",
    "import numpy as np\n",
    "import requests as req\n",
    "import warnings"
   ]
  },
  {
   "cell_type": "code",
   "execution_count": 3,
   "id": "07d90d98",
   "metadata": {},
   "outputs": [],
   "source": [
    "warnings.filterwarnings(\"ignore\", category=FutureWarning)\n",
    "warnings.filterwarnings(\"ignore\", category=DeprecationWarning)"
   ]
  },
  {
   "cell_type": "code",
   "execution_count": 4,
   "id": "f84c8d3b",
   "metadata": {},
   "outputs": [],
   "source": [
    "pd.set_option('mode.chained_assignment', None)"
   ]
  },
  {
   "cell_type": "markdown",
   "id": "fcfcf5fe",
   "metadata": {},
   "source": [
    "##### Versions of packages used in this jupyter notebook"
   ]
  },
  {
   "cell_type": "code",
   "execution_count": 5,
   "id": "02a32ad2",
   "metadata": {},
   "outputs": [
    {
     "name": "stdout",
     "output_type": "stream",
     "text": [
      "/bin/bash: /home/lucas/anaconda3/lib/libtinfo.so.6: no version information available (required by /bin/bash)\n",
      "Author: HSO Team\n",
      "\n",
      "pandas  : 1.5.3\n",
      "requests: 2.31.0\n",
      "numpy   : 1.24.3\n",
      "\n"
     ]
    }
   ],
   "source": [
    "!pip install -q -U watermark\n",
    "    \n",
    "%reload_ext watermark\n",
    "%watermark -a \"HSO Team\" --iversions"
   ]
  },
  {
   "cell_type": "markdown",
   "id": "b209904a",
   "metadata": {},
   "source": [
    "<a id=\"index\"></a>\n",
    "\n",
    "# Index\n",
    "\n",
    "## 1 [Data](#data)\n",
    "\n",
    "\n",
    "### &emsp;1.1 [Auxiliary classes and function](#auxiliary_classes_and_function)\n",
    "<br>\n",
    "\n",
    "### &emsp;1.2 [Obtaining](#data_obtain)\n",
    "#### &emsp;&emsp;&emsp;&emsp;1.2.1 [BINTRA](#data_bintra)\n",
    "#### &emsp;&emsp;&emsp;&emsp;1.2.2 [CAT-62](#data_cat_62)\n",
    "#### &emsp;&emsp;&emsp;&emsp;1.2.3 [ESPERAS](#data_hold)\n",
    "#### &emsp;&emsp;&emsp;&emsp;1.2.4 [METAF](#data_metaf)\n",
    "#### &emsp;&emsp;&emsp;&emsp;1.2.5 [METAR](#data_metar)\n",
    "#### &emsp;&emsp;&emsp;&emsp;1.2.6 [SATELITE](#data_sat)\n",
    "#### &emsp;&emsp;&emsp;&emsp;1.2.7 [TC-PREV](#data_tc_prev)\n",
    "#### &emsp;&emsp;&emsp;&emsp;1.2.8 [TC-REAL](#data_tc_real)\n",
    "<br>\n",
    "\n",
    "### &emsp;1.3 [Join](#data_join)"
   ]
  },
  {
   "cell_type": "markdown",
   "id": "e9dd390d",
   "metadata": {},
   "source": [
    "<a id=\"data\"></a>\n",
    "\n",
    "## 1 Data"
   ]
  },
  {
   "cell_type": "markdown",
   "id": "19b8a3d6",
   "metadata": {},
   "source": [
    "<a id=\"auxiliary_classes_and_function\"></a>\n",
    "\n",
    "## 1.1 Auxiliary function"
   ]
  },
  {
   "cell_type": "code",
   "execution_count": 6,
   "id": "8f10f20e",
   "metadata": {},
   "outputs": [],
   "source": [
    "def adjust_timestamp(ts):\n",
    "    timestamp_s = ts / 1000\n",
    "    dt = datetime.utcfromtimestamp(timestamp_s)\n",
    "    return dt.replace(minute=0, second=0, microsecond=0)"
   ]
  },
  {
   "cell_type": "markdown",
   "id": "d7d3ae2f",
   "metadata": {},
   "source": [
    "##### Data schema"
   ]
  },
  {
   "cell_type": "code",
   "execution_count": 7,
   "id": "57edf3c5",
   "metadata": {},
   "outputs": [],
   "source": [
    "categorical_selected_cols = ['origem', 'destino', 'metar', 'hora_ref', 'path', 'snapshot_radar']\n",
    "numerical_selected_cols = ['troca', 'esperas']\n",
    "\n",
    "selected_cols = categorical_selected_cols + numerical_selected_cols"
   ]
  },
  {
   "cell_type": "code",
   "execution_count": 8,
   "id": "0ac40f7b",
   "metadata": {},
   "outputs": [],
   "source": [
    "paramsDefault = {\n",
    "    'idate': '2022-06-02', # Data inicial da consulta | Example : AAAA-MM-DD\n",
    "    'fdate': '2023-05-11' # Data final da consulta | Example : AAAA-MM-DD\n",
    "}"
   ]
  },
  {
   "cell_type": "markdown",
   "id": "a8b7c464",
   "metadata": {},
   "source": [
    "<a id=\"data_obtain\"></a>\n",
    "\n",
    "### 1.2 Obtaining"
   ]
  },
  {
   "cell_type": "code",
   "execution_count": 9,
   "id": "9c18a844",
   "metadata": {},
   "outputs": [],
   "source": [
    "def getData(route, paramsWithoutToken = paramsDefault, token = 'a779d04f85c4bf6cfa586d30aaec57c44e9b7173'):\n",
    "    \"\"\"\n",
    "    Fetches data from a specific API, handling exceptions and returning the data as a DataFrame.\n",
    "\n",
    "    :param route: String representing the API endpoint.\n",
    "    :param paramsWithoutToken: Dictionary containing the request parameters without the token. Defaults to paramsDefault.\n",
    "    :param token: String containing the authentication token. Defaults to a fixed token.\n",
    "    \n",
    "    :return: A pandas DataFrame containing the data fetched from the API.\n",
    "    \n",
    "    :raises: May propagate exceptions related to the request if they occur.\n",
    "    \"\"\"\n",
    "        \n",
    "    url = f'http://montreal.icea.decea.mil.br:5002/api/v1/{route}'\n",
    "    params = paramsWithoutToken\n",
    "    params['token'] = token\n",
    "    data = None\n",
    "    \n",
    "    while True:\n",
    "        try:\n",
    "            response = req.get(url, params)\n",
    "            response.raise_for_status()\n",
    "            data = response.json()\n",
    "            break\n",
    "            \n",
    "        except:\n",
    "            continue\n",
    "    \n",
    "    return pd.DataFrame(data)"
   ]
  },
  {
   "cell_type": "markdown",
   "id": "b83f6c1e",
   "metadata": {},
   "source": [
    "<a id=\"data_bintra\"></a>\n",
    "\n",
    "### 1.2.1 BINTRA"
   ]
  },
  {
   "cell_type": "code",
   "execution_count": 10,
   "id": "1a111f4a",
   "metadata": {},
   "outputs": [],
   "source": [
    "df_bintra = getData('bimtra')"
   ]
  },
  {
   "cell_type": "code",
   "execution_count": 11,
   "id": "9494cbdb",
   "metadata": {},
   "outputs": [],
   "source": [
    "df_bintra = df_bintra[df_bintra['origem'] != df_bintra['destino']]"
   ]
  },
  {
   "cell_type": "code",
   "execution_count": 12,
   "id": "97321f16",
   "metadata": {},
   "outputs": [],
   "source": [
    "df_bintra['rota'] = df_bintra['origem'] + '_' + df_bintra['destino']"
   ]
  },
  {
   "cell_type": "code",
   "execution_count": 13,
   "id": "5a0a6d5d",
   "metadata": {},
   "outputs": [],
   "source": [
    "df_bintra['dt_dep_timestamp'] = df_bintra['dt_dep']\n",
    "df_bintra['dt_arr_timestamp'] = df_bintra['dt_arr']\n",
    "df_bintra['dt_dep'] = pd.to_datetime(df_bintra['dt_dep_timestamp'], unit='ms')\n",
    "df_bintra['dt_arr'] = pd.to_datetime(df_bintra['dt_arr_timestamp'], unit='ms')"
   ]
  },
  {
   "cell_type": "code",
   "execution_count": 14,
   "id": "8d058a05",
   "metadata": {},
   "outputs": [],
   "source": [
    "df_bintra['duration'] = (df_bintra['dt_arr_timestamp'] - df_bintra['dt_dep_timestamp'])/1000"
   ]
  },
  {
   "cell_type": "code",
   "execution_count": 15,
   "id": "9fd3f02e",
   "metadata": {},
   "outputs": [
    {
     "data": {
      "text/html": [
       "<div>\n",
       "<style scoped>\n",
       "    .dataframe tbody tr th:only-of-type {\n",
       "        vertical-align: middle;\n",
       "    }\n",
       "\n",
       "    .dataframe tbody tr th {\n",
       "        vertical-align: top;\n",
       "    }\n",
       "\n",
       "    .dataframe thead th {\n",
       "        text-align: right;\n",
       "    }\n",
       "</style>\n",
       "<table border=\"1\" class=\"dataframe\">\n",
       "  <thead>\n",
       "    <tr style=\"text-align: right;\">\n",
       "      <th></th>\n",
       "      <th>flightid</th>\n",
       "      <th>origem</th>\n",
       "      <th>destino</th>\n",
       "      <th>dt_dep</th>\n",
       "      <th>dt_arr</th>\n",
       "      <th>rota</th>\n",
       "      <th>dt_dep_timestamp</th>\n",
       "      <th>dt_arr_timestamp</th>\n",
       "      <th>duration</th>\n",
       "    </tr>\n",
       "  </thead>\n",
       "  <tbody>\n",
       "    <tr>\n",
       "      <th>78232</th>\n",
       "      <td>891ed5ce1dbdf826fdd502c2ecde1af0</td>\n",
       "      <td>SBSP</td>\n",
       "      <td>SBRJ</td>\n",
       "      <td>2022-09-09 12:18:01</td>\n",
       "      <td>2022-09-09 13:07:39</td>\n",
       "      <td>SBSP_SBRJ</td>\n",
       "      <td>1662725881000</td>\n",
       "      <td>1662728859000</td>\n",
       "      <td>2978.0</td>\n",
       "    </tr>\n",
       "    <tr>\n",
       "      <th>21927</th>\n",
       "      <td>dbc2e5aaae0bbcc5f5eeb2091e0f602c</td>\n",
       "      <td>SBCF</td>\n",
       "      <td>SBSP</td>\n",
       "      <td>2022-06-30 12:17:20</td>\n",
       "      <td>2022-06-30 13:25:39</td>\n",
       "      <td>SBCF_SBSP</td>\n",
       "      <td>1656591440000</td>\n",
       "      <td>1656595539000</td>\n",
       "      <td>4099.0</td>\n",
       "    </tr>\n",
       "    <tr>\n",
       "      <th>246662</th>\n",
       "      <td>0bb4f3323850c348db711c77ced6970f</td>\n",
       "      <td>SBSP</td>\n",
       "      <td>SBSV</td>\n",
       "      <td>2023-03-28 01:01:17</td>\n",
       "      <td>2023-03-28 03:00:37</td>\n",
       "      <td>SBSP_SBSV</td>\n",
       "      <td>1679965277000</td>\n",
       "      <td>1679972437000</td>\n",
       "      <td>7160.0</td>\n",
       "    </tr>\n",
       "  </tbody>\n",
       "</table>\n",
       "</div>"
      ],
      "text/plain": [
       "                                flightid origem destino              dt_dep  \\\n",
       "78232   891ed5ce1dbdf826fdd502c2ecde1af0   SBSP    SBRJ 2022-09-09 12:18:01   \n",
       "21927   dbc2e5aaae0bbcc5f5eeb2091e0f602c   SBCF    SBSP 2022-06-30 12:17:20   \n",
       "246662  0bb4f3323850c348db711c77ced6970f   SBSP    SBSV 2023-03-28 01:01:17   \n",
       "\n",
       "                    dt_arr       rota  dt_dep_timestamp  dt_arr_timestamp  \\\n",
       "78232  2022-09-09 13:07:39  SBSP_SBRJ     1662725881000     1662728859000   \n",
       "21927  2022-06-30 13:25:39  SBCF_SBSP     1656591440000     1656595539000   \n",
       "246662 2023-03-28 03:00:37  SBSP_SBSV     1679965277000     1679972437000   \n",
       "\n",
       "        duration  \n",
       "78232     2978.0  \n",
       "21927     4099.0  \n",
       "246662    7160.0  "
      ]
     },
     "execution_count": 15,
     "metadata": {},
     "output_type": "execute_result"
    }
   ],
   "source": [
    "df_bintra.sample(3)"
   ]
  },
  {
   "cell_type": "markdown",
   "id": "e232fa9b",
   "metadata": {},
   "source": [
    "#### [↥ return to index](#index)"
   ]
  },
  {
   "cell_type": "markdown",
   "id": "cea3ab59",
   "metadata": {},
   "source": [
    "<a id=\"data_cat_62\"></a>\n",
    "\n",
    "### 1.2.2 CAT-62"
   ]
  },
  {
   "cell_type": "code",
   "execution_count": 16,
   "id": "7514f137",
   "metadata": {},
   "outputs": [],
   "source": [
    "start = int(string_to_timestamp('2022-06-01 00:00:00.000'))\n",
    "end = int(string_to_timestamp('2023-05-31 00:00:00.000'))\n",
    "\n",
    "step = 60 * 60 * 24\n",
    "\n",
    "dfCat_62_blocks = list()\n",
    "\n",
    "for timestamp in range(start, end, step):\n",
    "    dt_i = timestamp_to_string(timestamp)\n",
    "    dt_f = timestamp_to_string(timestamp + step)\n",
    "    \n",
    "    print(dt_i)\n",
    "    aux = getData('cat-62', {'idate': dt_i, 'fdate': dt_f})\n",
    "    if(len(aux) != 0):\n",
    "        dfCat_62_blocks.append(aux)\n",
    "        \n",
    "_df_cat_62 = pd.concat(dfCat_62_blocks, ignore_index=True)\n",
    "        \n",
    "df_cat_62 = pd.DataFrame(columns=['snapshot_radar'])\n",
    "df_cat_62.index.name = 'flightid'\n",
    "\n",
    "for flight in _df_cat_62['flightid'].unique():\n",
    "    \n",
    "    coords = \"MULTIPOINT (\"\n",
    "    \n",
    "    erase_cumma = False\n",
    "    \n",
    "    for index, row in _df_cat_62[_df_cat_62['flightid'] == flight].iterrows():\n",
    "        coords += f\"({row['lon']} {row['lat']})\"\n",
    "        coords += ', '\n",
    "        erase_cumma = True\n",
    "\n",
    "    if erase_cumma:\n",
    "        coords = coords[:-2]\n",
    "        \n",
    "    coords += \")\"\n",
    "    \n",
    "    \n",
    "    df_cat_62.loc[flight, 'snapshot_radar'] = coords\n",
    "    \n",
    "df_cat_62 = df_cat_62.reset_index()       "
   ]
  },
  {
   "cell_type": "code",
   "execution_count": 17,
   "id": "b7363a87",
   "metadata": {},
   "outputs": [],
   "source": [
    "df_cat_62.to_csv('../data/cat_62.csv', index=False)"
   ]
  },
  {
   "cell_type": "code",
   "execution_count": 19,
   "id": "9c715514",
   "metadata": {},
   "outputs": [
    {
     "data": {
      "text/html": [
       "<div>\n",
       "<style scoped>\n",
       "    .dataframe tbody tr th:only-of-type {\n",
       "        vertical-align: middle;\n",
       "    }\n",
       "\n",
       "    .dataframe tbody tr th {\n",
       "        vertical-align: top;\n",
       "    }\n",
       "\n",
       "    .dataframe thead th {\n",
       "        text-align: right;\n",
       "    }\n",
       "</style>\n",
       "<table border=\"1\" class=\"dataframe\">\n",
       "  <thead>\n",
       "    <tr style=\"text-align: right;\">\n",
       "      <th></th>\n",
       "      <th>flightid</th>\n",
       "      <th>snapshot_radar</th>\n",
       "    </tr>\n",
       "  </thead>\n",
       "  <tbody>\n",
       "    <tr>\n",
       "      <th>148379</th>\n",
       "      <td>3e9a7f63285c96960ab90a485626f381</td>\n",
       "      <td>MULTIPOINT ((-0.759485034 -0.3505728917), (-0....</td>\n",
       "    </tr>\n",
       "    <tr>\n",
       "      <th>112257</th>\n",
       "      <td>8bf42b2dfb6e810291c61372106520de</td>\n",
       "      <td>MULTIPOINT ((-0.8145314599 -0.3914575868), (-0...</td>\n",
       "    </tr>\n",
       "    <tr>\n",
       "      <th>125210</th>\n",
       "      <td>4b265562247559c8d1acb7f7e2a19b95</td>\n",
       "      <td>MULTIPOINT ((-0.8913579366 -0.5232852385), (-0...</td>\n",
       "    </tr>\n",
       "  </tbody>\n",
       "</table>\n",
       "</div>"
      ],
      "text/plain": [
       "                                flightid  \\\n",
       "148379  3e9a7f63285c96960ab90a485626f381   \n",
       "112257  8bf42b2dfb6e810291c61372106520de   \n",
       "125210  4b265562247559c8d1acb7f7e2a19b95   \n",
       "\n",
       "                                           snapshot_radar  \n",
       "148379  MULTIPOINT ((-0.759485034 -0.3505728917), (-0....  \n",
       "112257  MULTIPOINT ((-0.8145314599 -0.3914575868), (-0...  \n",
       "125210  MULTIPOINT ((-0.8913579366 -0.5232852385), (-0...  "
      ]
     },
     "execution_count": 19,
     "metadata": {},
     "output_type": "execute_result"
    }
   ],
   "source": [
    "df_cat_62.sample(3)"
   ]
  },
  {
   "cell_type": "markdown",
   "id": "c32d6d25",
   "metadata": {},
   "source": [
    "#### [↥ return to index](#index)"
   ]
  },
  {
   "cell_type": "markdown",
   "id": "508d56cb",
   "metadata": {},
   "source": [
    "<a id=\"data_hold\"></a>\n",
    "\n",
    "### 1.2.3 ESPERAS"
   ]
  },
  {
   "cell_type": "code",
   "execution_count": 20,
   "id": "5a190bde",
   "metadata": {},
   "outputs": [],
   "source": [
    "df_esperas = getData('esperas')"
   ]
  },
  {
   "cell_type": "code",
   "execution_count": 21,
   "id": "033eaf00",
   "metadata": {},
   "outputs": [],
   "source": [
    "df_esperas['hora_esperas'] = pd.to_datetime(df_esperas['hora'], unit='ms')"
   ]
  },
  {
   "cell_type": "code",
   "execution_count": 22,
   "id": "673d6ed5",
   "metadata": {},
   "outputs": [],
   "source": [
    "df_esperas['destino'] = df_esperas['aero']"
   ]
  },
  {
   "cell_type": "code",
   "execution_count": 23,
   "id": "e71801ef",
   "metadata": {},
   "outputs": [],
   "source": [
    "df_esperas.drop(['hora', 'aero'], axis =1, inplace = True)"
   ]
  },
  {
   "cell_type": "code",
   "execution_count": 24,
   "id": "e3e0de5a",
   "metadata": {},
   "outputs": [
    {
     "data": {
      "text/html": [
       "<div>\n",
       "<style scoped>\n",
       "    .dataframe tbody tr th:only-of-type {\n",
       "        vertical-align: middle;\n",
       "    }\n",
       "\n",
       "    .dataframe tbody tr th {\n",
       "        vertical-align: top;\n",
       "    }\n",
       "\n",
       "    .dataframe thead th {\n",
       "        text-align: right;\n",
       "    }\n",
       "</style>\n",
       "<table border=\"1\" class=\"dataframe\">\n",
       "  <thead>\n",
       "    <tr style=\"text-align: right;\">\n",
       "      <th></th>\n",
       "      <th>esperas</th>\n",
       "      <th>hora_esperas</th>\n",
       "      <th>destino</th>\n",
       "    </tr>\n",
       "  </thead>\n",
       "  <tbody>\n",
       "    <tr>\n",
       "      <th>46664</th>\n",
       "      <td>1</td>\n",
       "      <td>2023-01-12 08:00:00</td>\n",
       "      <td>SBGR</td>\n",
       "    </tr>\n",
       "    <tr>\n",
       "      <th>41470</th>\n",
       "      <td>0</td>\n",
       "      <td>2022-06-09 22:00:00</td>\n",
       "      <td>SBGR</td>\n",
       "    </tr>\n",
       "    <tr>\n",
       "      <th>98794</th>\n",
       "      <td>0</td>\n",
       "      <td>2023-04-30 10:00:00</td>\n",
       "      <td>SBSV</td>\n",
       "    </tr>\n",
       "  </tbody>\n",
       "</table>\n",
       "</div>"
      ],
      "text/plain": [
       "       esperas        hora_esperas destino\n",
       "46664        1 2023-01-12 08:00:00    SBGR\n",
       "41470        0 2022-06-09 22:00:00    SBGR\n",
       "98794        0 2023-04-30 10:00:00    SBSV"
      ]
     },
     "execution_count": 24,
     "metadata": {},
     "output_type": "execute_result"
    }
   ],
   "source": [
    "df_esperas.sample(3)"
   ]
  },
  {
   "cell_type": "markdown",
   "id": "db4f40dc",
   "metadata": {},
   "source": [
    "#### [↥ return to index](#index)"
   ]
  },
  {
   "cell_type": "markdown",
   "id": "080522c2",
   "metadata": {},
   "source": [
    "<a id=\"data_metaf\"></a>\n",
    "\n",
    "### 1.2.4 METAF"
   ]
  },
  {
   "cell_type": "code",
   "execution_count": 25,
   "id": "6d30dccb",
   "metadata": {},
   "outputs": [],
   "source": [
    "df_metaf = getData('metaf')"
   ]
  },
  {
   "cell_type": "code",
   "execution_count": 26,
   "id": "24714614",
   "metadata": {},
   "outputs": [],
   "source": [
    "df_metaf['hora_metaf'] = pd.to_datetime(df_metaf['hora'], unit='ms')"
   ]
  },
  {
   "cell_type": "code",
   "execution_count": 27,
   "id": "6aa3b603",
   "metadata": {},
   "outputs": [],
   "source": [
    "df_metaf['aero_metaf'] = df_metaf['aero']"
   ]
  },
  {
   "cell_type": "code",
   "execution_count": 28,
   "id": "da014d7e",
   "metadata": {},
   "outputs": [],
   "source": [
    "df_metaf.drop(['hora', 'aero'], axis =1, inplace = True)"
   ]
  },
  {
   "cell_type": "code",
   "execution_count": 29,
   "id": "92e49504",
   "metadata": {},
   "outputs": [
    {
     "data": {
      "text/html": [
       "<div>\n",
       "<style scoped>\n",
       "    .dataframe tbody tr th:only-of-type {\n",
       "        vertical-align: middle;\n",
       "    }\n",
       "\n",
       "    .dataframe tbody tr th {\n",
       "        vertical-align: top;\n",
       "    }\n",
       "\n",
       "    .dataframe thead th {\n",
       "        text-align: right;\n",
       "    }\n",
       "</style>\n",
       "<table border=\"1\" class=\"dataframe\">\n",
       "  <thead>\n",
       "    <tr style=\"text-align: right;\">\n",
       "      <th></th>\n",
       "      <th>metaf</th>\n",
       "      <th>hora_metaf</th>\n",
       "      <th>aero_metaf</th>\n",
       "    </tr>\n",
       "  </thead>\n",
       "  <tbody>\n",
       "    <tr>\n",
       "      <th>17641</th>\n",
       "      <td>METAF SBGR 010500Z 07003KT 2000     BR BKN033 ...</td>\n",
       "      <td>2022-08-01 05:00:00</td>\n",
       "      <td>SBGR</td>\n",
       "    </tr>\n",
       "    <tr>\n",
       "      <th>13962</th>\n",
       "      <td>METAF SBGL 250600Z  30003KT 4000     BR BKN017...</td>\n",
       "      <td>2023-01-25 06:00:00</td>\n",
       "      <td>SBGL</td>\n",
       "    </tr>\n",
       "    <tr>\n",
       "      <th>38291</th>\n",
       "      <td>METAF SBSP 271700Z  17009KT 9999  -TSRA  SCT02...</td>\n",
       "      <td>2022-09-27 17:00:00</td>\n",
       "      <td>SBSP</td>\n",
       "    </tr>\n",
       "  </tbody>\n",
       "</table>\n",
       "</div>"
      ],
      "text/plain": [
       "                                                   metaf          hora_metaf  \\\n",
       "17641  METAF SBGR 010500Z 07003KT 2000     BR BKN033 ... 2022-08-01 05:00:00   \n",
       "13962  METAF SBGL 250600Z  30003KT 4000     BR BKN017... 2023-01-25 06:00:00   \n",
       "38291  METAF SBSP 271700Z  17009KT 9999  -TSRA  SCT02... 2022-09-27 17:00:00   \n",
       "\n",
       "      aero_metaf  \n",
       "17641       SBGR  \n",
       "13962       SBGL  \n",
       "38291       SBSP  "
      ]
     },
     "execution_count": 29,
     "metadata": {},
     "output_type": "execute_result"
    }
   ],
   "source": [
    "df_metaf.sample(3)"
   ]
  },
  {
   "cell_type": "markdown",
   "id": "8fe2cf3a",
   "metadata": {},
   "source": [
    "#### [↥ return to index](#index)"
   ]
  },
  {
   "cell_type": "markdown",
   "id": "6e05bba2",
   "metadata": {},
   "source": [
    "<a id=\"data_metar\"></a>\n",
    "\n",
    "### 1.2.5 METAR"
   ]
  },
  {
   "cell_type": "code",
   "execution_count": 30,
   "id": "92bf2829",
   "metadata": {},
   "outputs": [],
   "source": [
    "df_metar = getData('metar')"
   ]
  },
  {
   "cell_type": "code",
   "execution_count": 31,
   "id": "62082d54",
   "metadata": {},
   "outputs": [],
   "source": [
    "df_metar['hora_metar'] = pd.to_datetime(df_metar['hora'], unit='ms')"
   ]
  },
  {
   "cell_type": "code",
   "execution_count": 32,
   "id": "efbbff0f",
   "metadata": {},
   "outputs": [],
   "source": [
    "df_metar['aero_metar'] = df_metar['aero']"
   ]
  },
  {
   "cell_type": "code",
   "execution_count": 33,
   "id": "23cd2c27",
   "metadata": {},
   "outputs": [],
   "source": [
    "df_metar.drop(['hora', 'aero'], axis =1, inplace = True)"
   ]
  },
  {
   "cell_type": "code",
   "execution_count": 34,
   "id": "791db41a",
   "metadata": {},
   "outputs": [
    {
     "data": {
      "text/html": [
       "<div>\n",
       "<style scoped>\n",
       "    .dataframe tbody tr th:only-of-type {\n",
       "        vertical-align: middle;\n",
       "    }\n",
       "\n",
       "    .dataframe tbody tr th {\n",
       "        vertical-align: top;\n",
       "    }\n",
       "\n",
       "    .dataframe thead th {\n",
       "        text-align: right;\n",
       "    }\n",
       "</style>\n",
       "<table border=\"1\" class=\"dataframe\">\n",
       "  <thead>\n",
       "    <tr style=\"text-align: right;\">\n",
       "      <th></th>\n",
       "      <th>metar</th>\n",
       "      <th>hora_metar</th>\n",
       "      <th>aero_metar</th>\n",
       "    </tr>\n",
       "  </thead>\n",
       "  <tbody>\n",
       "    <tr>\n",
       "      <th>39232</th>\n",
       "      <td>METAR SBGL 070800Z 05002KT 9999 FEW008 BKN100 ...</td>\n",
       "      <td>2022-12-07 08:00:00</td>\n",
       "      <td>SBGL</td>\n",
       "    </tr>\n",
       "    <tr>\n",
       "      <th>72468</th>\n",
       "      <td>METAR SBRF 050300Z 12007KT 9999 SCT021 26/20 Q...</td>\n",
       "      <td>2022-10-05 03:00:00</td>\n",
       "      <td>SBRF</td>\n",
       "    </tr>\n",
       "    <tr>\n",
       "      <th>36164</th>\n",
       "      <td>METAR SBGL 051400Z 31013KT CAVOK 32/14 Q1010=</td>\n",
       "      <td>2022-08-05 14:00:00</td>\n",
       "      <td>SBGL</td>\n",
       "    </tr>\n",
       "  </tbody>\n",
       "</table>\n",
       "</div>"
      ],
      "text/plain": [
       "                                                   metar          hora_metar  \\\n",
       "39232  METAR SBGL 070800Z 05002KT 9999 FEW008 BKN100 ... 2022-12-07 08:00:00   \n",
       "72468  METAR SBRF 050300Z 12007KT 9999 SCT021 26/20 Q... 2022-10-05 03:00:00   \n",
       "36164      METAR SBGL 051400Z 31013KT CAVOK 32/14 Q1010= 2022-08-05 14:00:00   \n",
       "\n",
       "      aero_metar  \n",
       "39232       SBGL  \n",
       "72468       SBRF  \n",
       "36164       SBGL  "
      ]
     },
     "execution_count": 34,
     "metadata": {},
     "output_type": "execute_result"
    }
   ],
   "source": [
    "df_metar.sample(3)"
   ]
  },
  {
   "cell_type": "markdown",
   "id": "f5b37ee2",
   "metadata": {},
   "source": [
    "#### [↥ return to index](#index)"
   ]
  },
  {
   "cell_type": "markdown",
   "id": "4bf56f11",
   "metadata": {},
   "source": [
    "<a id=\"data_sat\"></a>\n",
    "\n",
    "### 1.2.6 SATELITE"
   ]
  },
  {
   "cell_type": "code",
   "execution_count": 35,
   "id": "f628d639",
   "metadata": {},
   "outputs": [],
   "source": [
    "df_sat_met = getData('satelite')"
   ]
  },
  {
   "cell_type": "code",
   "execution_count": 36,
   "id": "e329ec35",
   "metadata": {},
   "outputs": [],
   "source": [
    "df_sat_met['hora_ref'] = pd.to_datetime(df_sat_met['data'])"
   ]
  },
  {
   "cell_type": "code",
   "execution_count": 37,
   "id": "a0a0b53d",
   "metadata": {},
   "outputs": [],
   "source": [
    "df_sat_met.drop(['data'], axis = 1, inplace = True)"
   ]
  },
  {
   "cell_type": "code",
   "execution_count": 38,
   "id": "fd07bc41",
   "metadata": {},
   "outputs": [
    {
     "data": {
      "text/html": [
       "<div>\n",
       "<style scoped>\n",
       "    .dataframe tbody tr th:only-of-type {\n",
       "        vertical-align: middle;\n",
       "    }\n",
       "\n",
       "    .dataframe tbody tr th {\n",
       "        vertical-align: top;\n",
       "    }\n",
       "\n",
       "    .dataframe thead th {\n",
       "        text-align: right;\n",
       "    }\n",
       "</style>\n",
       "<table border=\"1\" class=\"dataframe\">\n",
       "  <thead>\n",
       "    <tr style=\"text-align: right;\">\n",
       "      <th></th>\n",
       "      <th>path</th>\n",
       "      <th>tamanho</th>\n",
       "      <th>hora_ref</th>\n",
       "    </tr>\n",
       "  </thead>\n",
       "  <tbody>\n",
       "    <tr>\n",
       "      <th>3116</th>\n",
       "      <td>http://satelite.cptec.inpe.br/repositoriogoes/...</td>\n",
       "      <td>1648621</td>\n",
       "      <td>2022-10-10 02:00:00</td>\n",
       "    </tr>\n",
       "    <tr>\n",
       "      <th>4936</th>\n",
       "      <td>http://satelite.cptec.inpe.br/repositoriogoes/...</td>\n",
       "      <td>1660879</td>\n",
       "      <td>2022-12-25 15:00:00</td>\n",
       "    </tr>\n",
       "    <tr>\n",
       "      <th>5956</th>\n",
       "      <td>http://satelite.cptec.inpe.br/repositoriogoes/...</td>\n",
       "      <td>1679305</td>\n",
       "      <td>2023-02-06 21:00:00</td>\n",
       "    </tr>\n",
       "  </tbody>\n",
       "</table>\n",
       "</div>"
      ],
      "text/plain": [
       "                                                   path  tamanho  \\\n",
       "3116  http://satelite.cptec.inpe.br/repositoriogoes/...  1648621   \n",
       "4936  http://satelite.cptec.inpe.br/repositoriogoes/...  1660879   \n",
       "5956  http://satelite.cptec.inpe.br/repositoriogoes/...  1679305   \n",
       "\n",
       "                hora_ref  \n",
       "3116 2022-10-10 02:00:00  \n",
       "4936 2022-12-25 15:00:00  \n",
       "5956 2023-02-06 21:00:00  "
      ]
     },
     "execution_count": 38,
     "metadata": {},
     "output_type": "execute_result"
    }
   ],
   "source": [
    "df_sat_met.sample(3)"
   ]
  },
  {
   "cell_type": "markdown",
   "id": "21d47a0c",
   "metadata": {},
   "source": [
    "#### [↥ return to index](#index)"
   ]
  },
  {
   "cell_type": "markdown",
   "id": "9d2feaae",
   "metadata": {},
   "source": [
    "<a id=\"data_tc_prev\"></a>\n",
    "\n",
    "### 1.2.7 TC-PREV"
   ]
  },
  {
   "cell_type": "code",
   "execution_count": 39,
   "id": "b1f7ff2f",
   "metadata": {},
   "outputs": [],
   "source": [
    "df_tcp = getData('tc-prev')"
   ]
  },
  {
   "cell_type": "code",
   "execution_count": 40,
   "id": "ee4d2600",
   "metadata": {},
   "outputs": [],
   "source": [
    "df_tcp['hora_tcp'] = pd.to_datetime(df_tcp['hora'], unit='ms')"
   ]
  },
  {
   "cell_type": "code",
   "execution_count": 41,
   "id": "4d9c1b26",
   "metadata": {},
   "outputs": [],
   "source": [
    "df_tcp['aero_tcp'] = 'SB' + df_tcp['aero']"
   ]
  },
  {
   "cell_type": "code",
   "execution_count": 42,
   "id": "3ef0fae6",
   "metadata": {},
   "outputs": [],
   "source": [
    "df_tcp.drop(['hora', 'aero'], axis =1, inplace = True)"
   ]
  },
  {
   "cell_type": "code",
   "execution_count": 43,
   "id": "4ab05c21",
   "metadata": {},
   "outputs": [
    {
     "data": {
      "text/html": [
       "<div>\n",
       "<style scoped>\n",
       "    .dataframe tbody tr th:only-of-type {\n",
       "        vertical-align: middle;\n",
       "    }\n",
       "\n",
       "    .dataframe tbody tr th {\n",
       "        vertical-align: top;\n",
       "    }\n",
       "\n",
       "    .dataframe thead th {\n",
       "        text-align: right;\n",
       "    }\n",
       "</style>\n",
       "<table border=\"1\" class=\"dataframe\">\n",
       "  <thead>\n",
       "    <tr style=\"text-align: right;\">\n",
       "      <th></th>\n",
       "      <th>troca</th>\n",
       "      <th>hora_tcp</th>\n",
       "      <th>aero_tcp</th>\n",
       "    </tr>\n",
       "  </thead>\n",
       "  <tbody>\n",
       "    <tr>\n",
       "      <th>1971</th>\n",
       "      <td>0</td>\n",
       "      <td>2022-08-23 03:00:00</td>\n",
       "      <td>SBBR</td>\n",
       "    </tr>\n",
       "    <tr>\n",
       "      <th>17037</th>\n",
       "      <td>1</td>\n",
       "      <td>2022-06-23 21:00:00</td>\n",
       "      <td>SBCT</td>\n",
       "    </tr>\n",
       "    <tr>\n",
       "      <th>93059</th>\n",
       "      <td>0</td>\n",
       "      <td>2022-09-03 11:00:00</td>\n",
       "      <td>SBSV</td>\n",
       "    </tr>\n",
       "  </tbody>\n",
       "</table>\n",
       "</div>"
      ],
      "text/plain": [
       "       troca            hora_tcp aero_tcp\n",
       "1971       0 2022-08-23 03:00:00     SBBR\n",
       "17037      1 2022-06-23 21:00:00     SBCT\n",
       "93059      0 2022-09-03 11:00:00     SBSV"
      ]
     },
     "execution_count": 43,
     "metadata": {},
     "output_type": "execute_result"
    }
   ],
   "source": [
    "df_tcp.sample(3)"
   ]
  },
  {
   "cell_type": "markdown",
   "id": "f7f5c6a1",
   "metadata": {},
   "source": [
    "#### [↥ return to index](#index)"
   ]
  },
  {
   "cell_type": "markdown",
   "id": "aac94489",
   "metadata": {},
   "source": [
    "<a id=\"data_tc_real\"></a>\n",
    "\n",
    "### 1.2.8 TC-REAL"
   ]
  },
  {
   "cell_type": "code",
   "execution_count": 44,
   "id": "84c61408",
   "metadata": {},
   "outputs": [],
   "source": [
    "df_tcr = getData('tc-real')"
   ]
  },
  {
   "cell_type": "code",
   "execution_count": 45,
   "id": "25ce1a34",
   "metadata": {},
   "outputs": [],
   "source": [
    "df_tcr['aero_tcr'] = 'SB' + df_tcr['aero']"
   ]
  },
  {
   "cell_type": "code",
   "execution_count": 46,
   "id": "ad00d036",
   "metadata": {},
   "outputs": [],
   "source": [
    "df_tcr['hora_tcr'] = df_tcr['hora'].apply(adjust_timestamp)"
   ]
  },
  {
   "cell_type": "code",
   "execution_count": 47,
   "id": "833f35ce",
   "metadata": {},
   "outputs": [],
   "source": [
    "aux = df_tcr.groupby(['hora_tcr', 'aero_tcr']).agg({'aero': ['count']}).reset_index()"
   ]
  },
  {
   "cell_type": "code",
   "execution_count": 48,
   "id": "4920c18d",
   "metadata": {},
   "outputs": [],
   "source": [
    "aux.columns = aux.columns.droplevel(1)"
   ]
  },
  {
   "cell_type": "code",
   "execution_count": 49,
   "id": "40c0a0dc",
   "metadata": {},
   "outputs": [],
   "source": [
    "aux['troca_real'] = aux['aero']"
   ]
  },
  {
   "cell_type": "code",
   "execution_count": 50,
   "id": "6f8a4107",
   "metadata": {},
   "outputs": [],
   "source": [
    "df_tcr = aux.drop(['aero'], axis =1)"
   ]
  },
  {
   "cell_type": "code",
   "execution_count": 51,
   "id": "af1852aa",
   "metadata": {},
   "outputs": [
    {
     "data": {
      "text/html": [
       "<div>\n",
       "<style scoped>\n",
       "    .dataframe tbody tr th:only-of-type {\n",
       "        vertical-align: middle;\n",
       "    }\n",
       "\n",
       "    .dataframe tbody tr th {\n",
       "        vertical-align: top;\n",
       "    }\n",
       "\n",
       "    .dataframe thead th {\n",
       "        text-align: right;\n",
       "    }\n",
       "</style>\n",
       "<table border=\"1\" class=\"dataframe\">\n",
       "  <thead>\n",
       "    <tr style=\"text-align: right;\">\n",
       "      <th></th>\n",
       "      <th>hora_tcr</th>\n",
       "      <th>aero_tcr</th>\n",
       "      <th>troca_real</th>\n",
       "    </tr>\n",
       "  </thead>\n",
       "  <tbody>\n",
       "    <tr>\n",
       "      <th>439</th>\n",
       "      <td>2022-06-10 14:00:00</td>\n",
       "      <td>SBSV</td>\n",
       "      <td>3</td>\n",
       "    </tr>\n",
       "    <tr>\n",
       "      <th>8762</th>\n",
       "      <td>2022-10-30 22:00:00</td>\n",
       "      <td>SBCF</td>\n",
       "      <td>1</td>\n",
       "    </tr>\n",
       "    <tr>\n",
       "      <th>16885</th>\n",
       "      <td>2023-03-18 17:00:00</td>\n",
       "      <td>SBFL</td>\n",
       "      <td>1</td>\n",
       "    </tr>\n",
       "  </tbody>\n",
       "</table>\n",
       "</div>"
      ],
      "text/plain": [
       "                 hora_tcr aero_tcr  troca_real\n",
       "439   2022-06-10 14:00:00     SBSV           3\n",
       "8762  2022-10-30 22:00:00     SBCF           1\n",
       "16885 2023-03-18 17:00:00     SBFL           1"
      ]
     },
     "execution_count": 51,
     "metadata": {},
     "output_type": "execute_result"
    }
   ],
   "source": [
    "df_tcr.sample(3)"
   ]
  },
  {
   "cell_type": "markdown",
   "id": "66490be5",
   "metadata": {},
   "source": [
    "#### [↥ return to index](#index)"
   ]
  },
  {
   "cell_type": "markdown",
   "id": "3225261a",
   "metadata": {},
   "source": [
    "<a id=\"data_join\"></a>\n",
    "\n",
    "## 1.3 Join"
   ]
  },
  {
   "cell_type": "code",
   "execution_count": 52,
   "id": "3a21a3b8",
   "metadata": {},
   "outputs": [],
   "source": [
    "df_bintra['hora_ref'] = df_bintra['dt_dep_timestamp'].apply(adjust_timestamp)"
   ]
  },
  {
   "cell_type": "code",
   "execution_count": 53,
   "id": "010054b9",
   "metadata": {},
   "outputs": [],
   "source": [
    "df_bintra['hora_esperas'] = df_bintra['hora_ref'] - timedelta(hours=1)"
   ]
  },
  {
   "cell_type": "code",
   "execution_count": 54,
   "id": "5655a52d",
   "metadata": {},
   "outputs": [],
   "source": [
    "df_bintra['aero_esperas'] = df_bintra['destino']"
   ]
  },
  {
   "cell_type": "code",
   "execution_count": 55,
   "id": "a58db40a",
   "metadata": {},
   "outputs": [],
   "source": [
    "df_bintra['aero_metaf'] = df_bintra['destino']"
   ]
  },
  {
   "cell_type": "code",
   "execution_count": 56,
   "id": "5a8c7945",
   "metadata": {},
   "outputs": [],
   "source": [
    "df_bintra['hora_metaf'] = df_bintra['hora_ref'] + timedelta(hours=1)"
   ]
  },
  {
   "cell_type": "code",
   "execution_count": 57,
   "id": "16292e14",
   "metadata": {},
   "outputs": [],
   "source": [
    "df_bintra['aero_metar'] = df_bintra['destino']"
   ]
  },
  {
   "cell_type": "code",
   "execution_count": 58,
   "id": "386532d8",
   "metadata": {},
   "outputs": [],
   "source": [
    "df_bintra['hora_metar'] = df_bintra['hora_ref']"
   ]
  },
  {
   "cell_type": "code",
   "execution_count": 59,
   "id": "d7e46cd0",
   "metadata": {},
   "outputs": [],
   "source": [
    "df_bintra['hora_tcp'] = df_bintra['hora_ref'] + timedelta(hours=1)"
   ]
  },
  {
   "cell_type": "code",
   "execution_count": 60,
   "id": "5385a984",
   "metadata": {},
   "outputs": [],
   "source": [
    "df_bintra['aero_tcp'] = df_bintra['destino']"
   ]
  },
  {
   "cell_type": "code",
   "execution_count": 61,
   "id": "b79ac4e2",
   "metadata": {},
   "outputs": [],
   "source": [
    "df_bintra['hora_tcr'] = df_bintra['hora_ref']"
   ]
  },
  {
   "cell_type": "code",
   "execution_count": 62,
   "id": "fa5e7b37",
   "metadata": {},
   "outputs": [],
   "source": [
    "df_bintra['aero_tcr'] = df_bintra['destino']"
   ]
  },
  {
   "cell_type": "code",
   "execution_count": 63,
   "id": "9d8549eb",
   "metadata": {},
   "outputs": [],
   "source": [
    "merged1_satelite = df_bintra.merge(df_sat_met, on='hora_ref', how='left')"
   ]
  },
  {
   "cell_type": "code",
   "execution_count": 64,
   "id": "0ecd4bf6",
   "metadata": {},
   "outputs": [],
   "source": [
    "merged2_esperas = merged1_satelite.merge(df_esperas, on=['hora_esperas', 'destino'], how='left')"
   ]
  },
  {
   "cell_type": "code",
   "execution_count": 65,
   "id": "d5b3db87",
   "metadata": {},
   "outputs": [],
   "source": [
    "merged3_metaf = merged2_esperas.merge(df_metaf, on=['hora_metaf', 'aero_metaf'], how='left')"
   ]
  },
  {
   "cell_type": "code",
   "execution_count": 66,
   "id": "623e3297",
   "metadata": {},
   "outputs": [],
   "source": [
    "merged4_metar = merged3_metaf.merge(df_metar, on=['hora_metar', 'aero_metar'], how='left')"
   ]
  },
  {
   "cell_type": "code",
   "execution_count": 67,
   "id": "87f0406b",
   "metadata": {},
   "outputs": [],
   "source": [
    "merged5_tcp = merged4_metar.merge(df_tcp, on=['hora_tcp', 'aero_tcp'], how='left')"
   ]
  },
  {
   "cell_type": "code",
   "execution_count": 68,
   "id": "d4251697",
   "metadata": {},
   "outputs": [],
   "source": [
    "merged6_tcr = merged5_tcp.merge(df_tcr, on=['hora_tcr', 'aero_tcr'], how='left').set_index('flightid')"
   ]
  },
  {
   "cell_type": "code",
   "execution_count": 69,
   "id": "2eb88439",
   "metadata": {},
   "outputs": [],
   "source": [
    "merged7_cat = merged6_tcr.merge(df_cat_62, on=['flightid'], how='left').set_index('flightid')"
   ]
  },
  {
   "cell_type": "code",
   "execution_count": 70,
   "id": "674404ed",
   "metadata": {},
   "outputs": [],
   "source": [
    "data_train_origin = merged7_cat[\n",
    "    ['origem', 'destino', 'metar', 'snapshot_radar','hora_ref', 'path', 'troca', 'esperas', 'duration']\n",
    "]"
   ]
  },
  {
   "cell_type": "code",
   "execution_count": 71,
   "id": "396c954b",
   "metadata": {},
   "outputs": [],
   "source": [
    "data_train_origin.loc[:, 'hora_ref'] = data_train_origin['hora_ref'].astype('str')"
   ]
  },
  {
   "cell_type": "code",
   "execution_count": 72,
   "id": "70adab7c",
   "metadata": {},
   "outputs": [],
   "source": [
    "data_train_origin.dropna(inplace=True)"
   ]
  },
  {
   "cell_type": "code",
   "execution_count": 73,
   "id": "ca197d1a",
   "metadata": {},
   "outputs": [],
   "source": [
    "del df_bintra\n",
    "del merged1_satelite\n",
    "del merged2_esperas\n",
    "del merged3_metaf\n",
    "del merged4_metar\n",
    "del merged5_tcp\n",
    "del merged6_tcr\n",
    "del merged7_cat"
   ]
  },
  {
   "cell_type": "code",
   "execution_count": 74,
   "id": "52e9936e",
   "metadata": {},
   "outputs": [],
   "source": [
    "data_train_origin.to_csv('../data/data_train_origin.csv', index=True)"
   ]
  },
  {
   "cell_type": "code",
   "execution_count": 75,
   "id": "dea8ee01",
   "metadata": {},
   "outputs": [
    {
     "data": {
      "text/html": [
       "<div>\n",
       "<style scoped>\n",
       "    .dataframe tbody tr th:only-of-type {\n",
       "        vertical-align: middle;\n",
       "    }\n",
       "\n",
       "    .dataframe tbody tr th {\n",
       "        vertical-align: top;\n",
       "    }\n",
       "\n",
       "    .dataframe thead th {\n",
       "        text-align: right;\n",
       "    }\n",
       "</style>\n",
       "<table border=\"1\" class=\"dataframe\">\n",
       "  <thead>\n",
       "    <tr style=\"text-align: right;\">\n",
       "      <th></th>\n",
       "      <th>origem</th>\n",
       "      <th>destino</th>\n",
       "      <th>metar</th>\n",
       "      <th>snapshot_radar</th>\n",
       "      <th>hora_ref</th>\n",
       "      <th>path</th>\n",
       "      <th>troca</th>\n",
       "      <th>esperas</th>\n",
       "      <th>duration</th>\n",
       "    </tr>\n",
       "    <tr>\n",
       "      <th>flightid</th>\n",
       "      <th></th>\n",
       "      <th></th>\n",
       "      <th></th>\n",
       "      <th></th>\n",
       "      <th></th>\n",
       "      <th></th>\n",
       "      <th></th>\n",
       "      <th></th>\n",
       "      <th></th>\n",
       "    </tr>\n",
       "  </thead>\n",
       "  <tbody>\n",
       "    <tr>\n",
       "      <th>ec63d998029037920e9a981f7da42e7a</th>\n",
       "      <td>SBCF</td>\n",
       "      <td>SBFL</td>\n",
       "      <td>METAR SBFL 020100Z 19005KT 9999 FEW025 27/24 Q...</td>\n",
       "      <td>MULTIPOINT ((-0.8243125148 -0.4179799599), (-0...</td>\n",
       "      <td>2023-02-02 01:00:00</td>\n",
       "      <td>http://satelite.cptec.inpe.br/repositoriogoes/...</td>\n",
       "      <td>0.0</td>\n",
       "      <td>0.0</td>\n",
       "      <td>5439.0</td>\n",
       "    </tr>\n",
       "    <tr>\n",
       "      <th>036ac0f54837a931bb3fe3b7e10b8320</th>\n",
       "      <td>SBGR</td>\n",
       "      <td>SBCT</td>\n",
       "      <td>METAR SBCT 171900Z 26008KT 9999 SCT030 FEW040T...</td>\n",
       "      <td>MULTIPOINT ((-0.8260493159 -0.4206662704), (-0...</td>\n",
       "      <td>2023-02-17 19:00:00</td>\n",
       "      <td>http://satelite.cptec.inpe.br/repositoriogoes/...</td>\n",
       "      <td>0.0</td>\n",
       "      <td>0.0</td>\n",
       "      <td>2299.0</td>\n",
       "    </tr>\n",
       "    <tr>\n",
       "      <th>c0c3abb34bb46ece7afc7c42d2d34e03</th>\n",
       "      <td>SBGR</td>\n",
       "      <td>SBGL</td>\n",
       "      <td>METAR SBGL 081300Z 12010KT 9999 FEW020 OVC050 ...</td>\n",
       "      <td>MULTIPOINT ((-0.7826426403 -0.4056470397), (-0...</td>\n",
       "      <td>2022-10-08 13:00:00</td>\n",
       "      <td>http://satelite.cptec.inpe.br/repositoriogoes/...</td>\n",
       "      <td>1.0</td>\n",
       "      <td>0.0</td>\n",
       "      <td>2068.0</td>\n",
       "    </tr>\n",
       "  </tbody>\n",
       "</table>\n",
       "</div>"
      ],
      "text/plain": [
       "                                 origem destino  \\\n",
       "flightid                                          \n",
       "ec63d998029037920e9a981f7da42e7a   SBCF    SBFL   \n",
       "036ac0f54837a931bb3fe3b7e10b8320   SBGR    SBCT   \n",
       "c0c3abb34bb46ece7afc7c42d2d34e03   SBGR    SBGL   \n",
       "\n",
       "                                                                              metar  \\\n",
       "flightid                                                                              \n",
       "ec63d998029037920e9a981f7da42e7a  METAR SBFL 020100Z 19005KT 9999 FEW025 27/24 Q...   \n",
       "036ac0f54837a931bb3fe3b7e10b8320  METAR SBCT 171900Z 26008KT 9999 SCT030 FEW040T...   \n",
       "c0c3abb34bb46ece7afc7c42d2d34e03  METAR SBGL 081300Z 12010KT 9999 FEW020 OVC050 ...   \n",
       "\n",
       "                                                                     snapshot_radar  \\\n",
       "flightid                                                                              \n",
       "ec63d998029037920e9a981f7da42e7a  MULTIPOINT ((-0.8243125148 -0.4179799599), (-0...   \n",
       "036ac0f54837a931bb3fe3b7e10b8320  MULTIPOINT ((-0.8260493159 -0.4206662704), (-0...   \n",
       "c0c3abb34bb46ece7afc7c42d2d34e03  MULTIPOINT ((-0.7826426403 -0.4056470397), (-0...   \n",
       "\n",
       "                                             hora_ref  \\\n",
       "flightid                                                \n",
       "ec63d998029037920e9a981f7da42e7a  2023-02-02 01:00:00   \n",
       "036ac0f54837a931bb3fe3b7e10b8320  2023-02-17 19:00:00   \n",
       "c0c3abb34bb46ece7afc7c42d2d34e03  2022-10-08 13:00:00   \n",
       "\n",
       "                                                                               path  \\\n",
       "flightid                                                                              \n",
       "ec63d998029037920e9a981f7da42e7a  http://satelite.cptec.inpe.br/repositoriogoes/...   \n",
       "036ac0f54837a931bb3fe3b7e10b8320  http://satelite.cptec.inpe.br/repositoriogoes/...   \n",
       "c0c3abb34bb46ece7afc7c42d2d34e03  http://satelite.cptec.inpe.br/repositoriogoes/...   \n",
       "\n",
       "                                  troca  esperas  duration  \n",
       "flightid                                                    \n",
       "ec63d998029037920e9a981f7da42e7a    0.0      0.0    5439.0  \n",
       "036ac0f54837a931bb3fe3b7e10b8320    0.0      0.0    2299.0  \n",
       "c0c3abb34bb46ece7afc7c42d2d34e03    1.0      0.0    2068.0  "
      ]
     },
     "execution_count": 75,
     "metadata": {},
     "output_type": "execute_result"
    }
   ],
   "source": [
    "data_train_origin.sample(3)"
   ]
  },
  {
   "cell_type": "markdown",
   "id": "93b704fc",
   "metadata": {},
   "source": [
    "#### [↥ return to index](#index)"
   ]
  }
 ],
 "metadata": {
  "kernelspec": {
   "display_name": "Python 3 (ipykernel)",
   "language": "python",
   "name": "python3"
  },
  "language_info": {
   "codemirror_mode": {
    "name": "ipython",
    "version": 3
   },
   "file_extension": ".py",
   "mimetype": "text/x-python",
   "name": "python",
   "nbconvert_exporter": "python",
   "pygments_lexer": "ipython3",
   "version": "3.11.4"
  }
 },
 "nbformat": 4,
 "nbformat_minor": 5
}
