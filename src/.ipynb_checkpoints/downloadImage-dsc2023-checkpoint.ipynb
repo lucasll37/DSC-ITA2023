{
 "cells": [
  {
   "cell_type": "code",
   "execution_count": null,
   "metadata": {
    "_cell_guid": "b1076dfc-b9ad-4769-8c92-a6c4dae69d19",
    "_uuid": "8f2839f25d086af736a60e9eeb907d3b93b6e0e5",
    "execution": {
     "iopub.execute_input": "2023-09-14T02:02:25.989630Z",
     "iopub.status.busy": "2023-09-14T02:02:25.989264Z",
     "iopub.status.idle": "2023-09-14T02:02:26.039704Z",
     "shell.execute_reply": "2023-09-14T02:02:26.038141Z",
     "shell.execute_reply.started": "2023-09-14T02:02:25.989595Z"
    }
   },
   "outputs": [],
   "source": [
    "# import os\n",
    "# for dirname, _, filenames in os.walk('/kaggle/input'):\n",
    "#     for filename in filenames:\n",
    "#         print(os.path.join(dirname, filename))"
   ]
  },
  {
   "cell_type": "code",
   "execution_count": null,
   "metadata": {},
   "outputs": [],
   "source": [
    "!pip install PythonMETAR -q\n",
    "!pip install requests -q\n",
    "!pip install opencv-python -q"
   ]
  },
  {
   "cell_type": "code",
   "execution_count": null,
   "metadata": {},
   "outputs": [],
   "source": [
    "import numpy as np\n",
    "import pandas as pd\n",
    "import requests as req\n",
    "import cv2\n",
    "import seaborn as sns\n",
    "from datetime import datetime\n",
    "from time import sleep\n",
    "import matplotlib.pyplot as plt\n",
    "from PythonMETAR import Metar\n",
    "import pickle\n",
    "import warnings"
   ]
  },
  {
   "cell_type": "code",
   "execution_count": null,
   "metadata": {
    "execution": {
     "iopub.execute_input": "2023-09-13T22:14:02.225768Z",
     "iopub.status.busy": "2023-09-13T22:14:02.224850Z",
     "iopub.status.idle": "2023-09-13T22:14:02.230622Z",
     "shell.execute_reply": "2023-09-13T22:14:02.229211Z",
     "shell.execute_reply.started": "2023-09-13T22:14:02.225728Z"
    }
   },
   "outputs": [],
   "source": [
    "warnings.filterwarnings('ignore')"
   ]
  },
  {
   "cell_type": "code",
   "execution_count": null,
   "metadata": {},
   "outputs": [],
   "source": [
    "paramsDefault = {\n",
    "    'idate': '2022-06-02', # Data inicial da consulta | Example : AAAA-MM-DD\n",
    "    'fdate': '2023-05-12' # Data final da consulta | Example : AAAA-MM-DD\n",
    "}"
   ]
  },
  {
   "cell_type": "code",
   "execution_count": null,
   "metadata": {
    "execution": {
     "iopub.execute_input": "2023-09-13T22:14:15.410146Z",
     "iopub.status.busy": "2023-09-13T22:14:15.409746Z",
     "iopub.status.idle": "2023-09-13T22:14:15.417378Z",
     "shell.execute_reply": "2023-09-13T22:14:15.415921Z",
     "shell.execute_reply.started": "2023-09-13T22:14:15.410112Z"
    }
   },
   "outputs": [],
   "source": [
    "def getData(route, paramsWithoutToken = paramsDefault, token = 'a779d04f85c4bf6cfa586d30aaec57c44e9b7173'):\n",
    "    url = f'http://montreal.icea.decea.mil.br:5002/api/v1/{route}'\n",
    "    params = paramsWithoutToken\n",
    "    params['token'] = token\n",
    "    \n",
    "    response = req.get(url, params)\n",
    "    response.raise_for_status()\n",
    "    data = response.json()\n",
    "    \n",
    "    return pd.DataFrame(data)"
   ]
  },
  {
   "cell_type": "markdown",
   "metadata": {},
   "source": [
    "## BIMTRA\n",
    "### Banco de Informações de Movimento de Tráfego Aéreo"
   ]
  },
  {
   "cell_type": "code",
   "execution_count": null,
   "metadata": {},
   "outputs": [],
   "source": [
    "df = getData('bimtra')"
   ]
  },
  {
   "cell_type": "code",
   "execution_count": null,
   "metadata": {},
   "outputs": [],
   "source": [
    "df['rota'] = df['origem'] + '_' + df['destino']"
   ]
  },
  {
   "cell_type": "code",
   "execution_count": null,
   "metadata": {},
   "outputs": [],
   "source": [
    "df.sample(3)"
   ]
  },
  {
   "cell_type": "markdown",
   "metadata": {},
   "source": [
    "## SATÉLITE\n",
    "### Satélite Meteorológico"
   ]
  },
  {
   "cell_type": "code",
   "execution_count": null,
   "metadata": {
    "execution": {
     "iopub.execute_input": "2023-09-13T22:50:56.862450Z",
     "iopub.status.busy": "2023-09-13T22:50:56.861950Z",
     "iopub.status.idle": "2023-09-13T22:50:58.273648Z",
     "shell.execute_reply": "2023-09-13T22:50:58.272322Z",
     "shell.execute_reply.started": "2023-09-13T22:50:56.862413Z"
    }
   },
   "outputs": [],
   "source": [
    "df_sat_met = getData('satelite')"
   ]
  },
  {
   "cell_type": "code",
   "execution_count": null,
   "metadata": {},
   "outputs": [],
   "source": [
    "df_sat_met.sample(5)"
   ]
  },
  {
   "cell_type": "code",
   "execution_count": null,
   "metadata": {},
   "outputs": [],
   "source": [
    "def add_gap(image, gap_size, gap_color=[255, 255, 255]):\n",
    "    \"\"\"Adiciona um gap (espaço) à imagem.\"\"\"\n",
    "    return np.vstack((image, np.full((gap_size, image.shape[1], 3), gap_color, dtype=np.uint8)))"
   ]
  },
  {
   "cell_type": "code",
   "execution_count": null,
   "metadata": {},
   "outputs": [],
   "source": [
    "def getImageSateliteRoute(width, outputWidth, outputHeight, itineraries, date = paramsDefault, printImage = False):\n",
    "    \n",
    "    location = {\n",
    "        'SBGR': [1665, 1459],\n",
    "        'SBCF': [1722, 1376],\n",
    "        'SBRJ': [1739, 1447],\n",
    "        'SBPA': [1557, 1614],\n",
    "        'SBSV': [1853, 1217],\n",
    "        'SBFL': [1618, 1562],\n",
    "        'SBRF': [1932, 1106],\n",
    "        'SBBR': [1632, 1286],\n",
    "        'SBCT': [1599, 1509],\n",
    "        'SBSP': [1662, 1469],\n",
    "        'SBKP': [1648, 1453],\n",
    "        'SBGL': [1740, 1446]\n",
    "    }\n",
    "      \n",
    "    route = []\n",
    "    hora_ref = []\n",
    "    imageSatelite_red = []\n",
    "    imageSatelite_yellow = []\n",
    "    imageSatelite_green = []\n",
    "    imageSatelite_blue = []\n",
    "    \n",
    "    df_sat_met = getData(route = 'satelite', paramsWithoutToken = date)\n",
    "    \n",
    "    firstCicle = True\n",
    "\n",
    "    for _, row in df_sat_met.iterrows():\n",
    "        print(f\"date: {row['data']}\")\n",
    "        \n",
    "        while True:\n",
    "            try:\n",
    "                response = req.get(row['path']).content\n",
    "                break\n",
    "            except:\n",
    "                print(f\"requisção falhou em {row['data']}. Aguardar 5 segs e retomar deste ponto\")\n",
    "                sleep(5)\n",
    "            \n",
    "        arrayImage = np.asarray(bytearray(response), dtype=np.uint8)\n",
    "        cv2ImageBGR = cv2.imdecode(arrayImage, cv2.IMREAD_COLOR)\n",
    "\n",
    "        # Converta a imagem para escala de cinza\n",
    "        cv2ImageRGB = cv2.cvtColor(cv2ImageBGR, cv2.COLOR_BGR2RGB)\n",
    "                \n",
    "        if firstCicle:\n",
    "            cv2ImageRGBCopy = cv2ImageRGB.copy()\n",
    "        \n",
    "        for itinerary in itineraries:        \n",
    "            [origin, destiny] = itinerary.split('_')\n",
    "            p_from = np.array(location[origin])\n",
    "            p_to = np.array(location[destiny])\n",
    "\n",
    "\n",
    "            # Vetor direcional\n",
    "            v = p_to - p_from\n",
    "            v = v / np.linalg.norm(v)  # Normaliza o vetor\n",
    "\n",
    "            # Vetor perpendicular\n",
    "            v_perp = np.array([v[1], -v[0]])\n",
    "\n",
    "            # Pontos do quadrilátero usando o padding para determinar as extremidades\n",
    "            padding = width/2\n",
    "            p2 = p_to + v * padding + v_perp * padding\n",
    "            p3 = p_to + v * padding - v_perp * padding\n",
    "            p1 = p_from - v * padding + v_perp * padding\n",
    "            p4 = p_from - v * padding - v_perp * padding\n",
    "            \n",
    "            if firstCicle:\n",
    "                pts = np.array([p1, p2, p3, p4], np.int32)\n",
    "                pts = pts.reshape((-1, 1, 2))\n",
    "\n",
    "                # Desenhe o paralelogramo vermelho\n",
    "                color = (255, 0, 0)  # Vermelho em RGB\n",
    "                thickness = 4  # Define a espessura da linha do paralelogramo\n",
    "                cv2.polylines(cv2ImageRGBCopy, [pts], isClosed=True, color=color, thickness=thickness)\n",
    "                \n",
    "\n",
    "\n",
    "            satelitePoints = np.array([p1, p2, p3, p4], dtype=np.float32)\n",
    "            outputPoints = np.array([[0, 0], [outputWidth, 0], [outputWidth, outputHeight], [0, outputHeight]], dtype=np.float32)\n",
    "\n",
    "            # Calcula a matriz de transformação de perspectiva\n",
    "            matriz = cv2.getPerspectiveTransform(satelitePoints, outputPoints)\n",
    "\n",
    "            # Realiza a transformação de perspectiva\n",
    "            outputImage = cv2.warpPerspective(cv2ImageRGB, matriz, (outputWidth, outputHeight))\n",
    "\n",
    "            arrayImageOutput = np.array(outputImage)\n",
    "            \n",
    "            hsv = cv2.cvtColor(arrayImageOutput, cv2.COLOR_RGB2HSV)\n",
    "\n",
    "            red_lower_limit1 = np.array([0, 50, 50])\n",
    "            red_upper_limit1 = np.array([12, 255, 255])\n",
    "            red_lower_limit2 = np.array([150, 50, 50])\n",
    "            red_upper_limit2 = np.array([180, 255, 255])\n",
    "            mask_red1 = cv2.inRange(hsv, red_lower_limit1, red_upper_limit1)\n",
    "            mask_red2 = cv2.inRange(hsv, red_lower_limit2, red_upper_limit2)\n",
    "            mask_red = cv2.bitwise_or(mask_red1, mask_red2)\n",
    "            outputImage_red = cv2.bitwise_and(arrayImageOutput, arrayImageOutput, mask=mask_red)\n",
    "            mean_r = outputImage_red.mean()\n",
    "            \n",
    "            yellow_lower_limit1 = np.array([22, 50, 50])\n",
    "            yellow_upper_limit1 = np.array([30, 255, 255])\n",
    "            yellow_lower_limit2 = np.array([31, 50, 50])\n",
    "            yellow_upper_limit2 = np.array([38, 255, 255])\n",
    "            mask_yellow1 = cv2.inRange(hsv, yellow_lower_limit1, yellow_upper_limit1)\n",
    "            mask_yellow2 = cv2.inRange(hsv, yellow_lower_limit2, yellow_upper_limit2)\n",
    "            mask_yellow = cv2.bitwise_or(mask_yellow1, mask_yellow2)\n",
    "            outputImage_yellow = cv2.bitwise_and(arrayImageOutput, arrayImageOutput, mask=mask_yellow)\n",
    "            mean_y = outputImage_yellow.mean()\n",
    "            \n",
    "            green_lower_limit1 = np.array([40, 50, 50])\n",
    "            green_upper_limit1 = np.array([70, 255, 255])\n",
    "            green_lower_limit2 = np.array([71, 50, 50])\n",
    "            green_upper_limit2 = np.array([80, 255, 255])\n",
    "            mask_green1 = cv2.inRange(hsv, green_lower_limit1, green_upper_limit1)\n",
    "            mask_green2 = cv2.inRange(hsv, green_lower_limit2, green_upper_limit2)\n",
    "            mask_green = cv2.bitwise_or(mask_green1, mask_green2)\n",
    "            outputImage_green = cv2.bitwise_and(arrayImageOutput, arrayImageOutput, mask=mask_green)\n",
    "            mean_g = outputImage_green.mean()\n",
    "            \n",
    "            blue_lower_limit1 = np.array([100, 50, 50])\n",
    "            blue_upper_limit1 = np.array([120, 255, 255])\n",
    "            blue_lower_limit2 = np.array([121, 50, 50])\n",
    "            blue_upper_limit2 = np.array([140, 255, 255])\n",
    "            mask_blue1 = cv2.inRange(hsv, blue_lower_limit1, blue_upper_limit1)\n",
    "            mask_blue2 = cv2.inRange(hsv, blue_lower_limit2, blue_upper_limit2)\n",
    "            mask_blue = cv2.bitwise_or(mask_blue1, mask_blue2)\n",
    "            outputImage_blue = cv2.bitwise_and(arrayImageOutput, arrayImageOutput, mask=mask_blue)\n",
    "            mean_b = outputImage_blue.mean()\n",
    "                   \n",
    "            route.append(itinerary)\n",
    "            hora_ref.append(row['data'])\n",
    "            imageSatelite_red.append(mean_r)\n",
    "            imageSatelite_yellow.append(mean_y)\n",
    "            imageSatelite_green.append(mean_g)\n",
    "            imageSatelite_blue.append(mean_b)\n",
    "            \n",
    "            if printImage:\n",
    "                gap_size = 1\n",
    "                arrayImageOutput_with_gap = add_gap(arrayImageOutput, gap_size)\n",
    "                outputImage_red_with_gap = add_gap(outputImage_red, gap_size)\n",
    "                outputImage_yellow_with_gap = add_gap(outputImage_yellow, gap_size)\n",
    "                outputImage_green_with_gap = add_gap(outputImage_green, gap_size)\n",
    "\n",
    "                # Concatenar as imagens verticalmente com espaços\n",
    "                concatenated_image = np.vstack((arrayImageOutput_with_gap, outputImage_red_with_gap, outputImage_yellow_with_gap, outputImage_green_with_gap, outputImage_blue))\n",
    "\n",
    "                # Exibir a imagem resultante\n",
    "                plt.figure(figsize=(5,25))\n",
    "                plt.imshow(concatenated_image)\n",
    "                plt.title(f\"{itinerary} - {row['data']} r: {mean_r: .1f} y: {mean_y: .1f} g: {mean_g: .1f} b: {mean_b: .1f}\", fontsize=6)\n",
    "                plt.axis('off')\n",
    "                plt.show()\n",
    "\n",
    "        if firstCicle:\n",
    "            plt.figure(figsize=(8, 8))\n",
    "            plt.imshow(cv2ImageRGBCopy)\n",
    "            plt.show()\n",
    "            plt.close()\n",
    "\n",
    "            firstCicle = False\n",
    "            \n",
    "        \n",
    "    return pd.DataFrame({\n",
    "        'route': route,\n",
    "        'hora_ref': hora_ref, \n",
    "        'imageSatelite_red': imageSatelite_red,\n",
    "        'imageSatelite_yellow': imageSatelite_yellow,\n",
    "        'imageSatelite_green': imageSatelite_green,\n",
    "        'imageSatelite_blue': imageSatelite_blue\n",
    "    })"
   ]
  },
  {
   "cell_type": "code",
   "execution_count": null,
   "metadata": {
    "execution": {
     "iopub.execute_input": "2023-09-13T23:22:47.585152Z",
     "iopub.status.busy": "2023-09-13T23:22:47.583779Z"
    },
    "scrolled": true
   },
   "outputs": [],
   "source": [
    "imagesRoute = getImageSateliteRoute(\n",
    "    width = 50,\n",
    "    outputWidth = 128,\n",
    "    outputHeight = 32,\n",
    "    itineraries = df.rota.unique(),\n",
    "#     date = {'idate': '2022-07-01', 'fdate': '2022-07-01'},\n",
    "    printImage = False\n",
    ")"
   ]
  },
  {
   "cell_type": "code",
   "execution_count": null,
   "metadata": {},
   "outputs": [],
   "source": [
    "imagesRoute"
   ]
  },
  {
   "cell_type": "code",
   "execution_count": null,
   "metadata": {},
   "outputs": [],
   "source": [
    "# Serializar para Pickle\n",
    "with open('../data/images/imagesRoute_22jun_22dez.pickle', 'wb') as arquivo:\n",
    "    pickle.dump(imagesRoute_22dez_23mai, arquivo)\n",
    "\n",
    "# Desserializar de Pickle\n",
    "with open('../data/images/imagesRoute_22jun_22dez.pickle', 'rb') as arquivo:\n",
    "    imagesRoute_22dez_23maiRestored = pickle.load(arquivo)"
   ]
  }
 ],
 "metadata": {
  "kernelspec": {
   "display_name": "Python 3 (ipykernel)",
   "language": "python",
   "name": "python3"
  },
  "language_info": {
   "codemirror_mode": {
    "name": "ipython",
    "version": 3
   },
   "file_extension": ".py",
   "mimetype": "text/x-python",
   "name": "python",
   "nbconvert_exporter": "python",
   "pygments_lexer": "ipython3",
   "version": "3.10.9"
  }
 },
 "nbformat": 4,
 "nbformat_minor": 4
}
